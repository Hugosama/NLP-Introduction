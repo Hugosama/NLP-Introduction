{
 "cells": [
  {
   "cell_type": "markdown",
   "metadata": {},
   "source": [
    "<!-- wp:heading -->\n",
    "<h2 id=\"%3Cstrong%3ETask2-%E6%95%B0%E6%8D%AE%E8%AF%BB%E5%8F%96%E4%B8%8E%E6%95%B0%E6%8D%AE%E5%88%86%E6%9E%90%3C%2Fstrong%3E\"><strong>Task2 数据读取与数据分析</strong></h2>\n",
    "<!-- /wp:heading -->\n",
    "\n",
    "<!-- wp:paragraph -->\n",
    "<p>本章主要内容为数据读取和数据分析，具体使用<code>Pandas</code>库完成数据读取操作，并对赛题数据进行分析构成。</p>\n",
    "<!-- /wp:paragraph -->\n",
    "\n",
    "<!-- wp:heading {\"level\":3} -->\n",
    "<h3 id=\"%3Cstrong%3E%E5%AD%A6%E4%B9%A0%E7%9B%AE%E6%A0%87%3C%2Fstrong%3E\"><strong>学习目标</strong></h3>\n",
    "<!-- /wp:heading -->\n",
    "\n",
    "<!-- wp:list -->\n",
    "<ul><li>学习使用<code>Pandas</code>读取赛题数据</li><li>分析赛题数据的分布规律</li></ul>\n",
    "<!-- /wp:list -->\n",
    "\n",
    "<!-- wp:heading {\"level\":3} -->\n",
    "<h3 id=\"%3Cstrong%3E%E6%95%B0%E6%8D%AE%E8%AF%BB%E5%8F%96%3C%2Fstrong%3E\"><strong>数据读取</strong></h3>\n",
    "<!-- /wp:heading -->\n",
    "\n",
    "<!-- wp:paragraph -->\n",
    "<p>赛题数据虽然是文本数据，每个新闻是不定长的，但任然使用csv格式进行存储。因此可以直接用<code>Pandas</code>完成数据读取的操作。</p>\n",
    "<!-- /wp:paragraph -->"
   ]
  },
  {
   "cell_type": "code",
   "execution_count": 3,
   "metadata": {},
   "outputs": [],
   "source": [
    "import pandas as pd\n",
    "\n",
    "\n",
    "train_df = pd.read_csv('train_set.csv', sep='\\t')"
   ]
  },
  {
   "cell_type": "code",
   "execution_count": 4,
   "metadata": {},
   "outputs": [
    {
     "data": {
      "text/html": [
       "<div>\n",
       "<style scoped>\n",
       "    .dataframe tbody tr th:only-of-type {\n",
       "        vertical-align: middle;\n",
       "    }\n",
       "\n",
       "    .dataframe tbody tr th {\n",
       "        vertical-align: top;\n",
       "    }\n",
       "\n",
       "    .dataframe thead th {\n",
       "        text-align: right;\n",
       "    }\n",
       "</style>\n",
       "<table border=\"1\" class=\"dataframe\">\n",
       "  <thead>\n",
       "    <tr style=\"text-align: right;\">\n",
       "      <th></th>\n",
       "      <th>label</th>\n",
       "      <th>text</th>\n",
       "    </tr>\n",
       "  </thead>\n",
       "  <tbody>\n",
       "    <tr>\n",
       "      <th>0</th>\n",
       "      <td>2</td>\n",
       "      <td>2967 6758 339 2021 1854 3731 4109 3792 4149 15...</td>\n",
       "    </tr>\n",
       "    <tr>\n",
       "      <th>1</th>\n",
       "      <td>11</td>\n",
       "      <td>4464 486 6352 5619 2465 4802 1452 3137 5778 54...</td>\n",
       "    </tr>\n",
       "    <tr>\n",
       "      <th>2</th>\n",
       "      <td>3</td>\n",
       "      <td>7346 4068 5074 3747 5681 6093 1777 2226 7354 6...</td>\n",
       "    </tr>\n",
       "    <tr>\n",
       "      <th>3</th>\n",
       "      <td>2</td>\n",
       "      <td>7159 948 4866 2109 5520 2490 211 3956 5520 549...</td>\n",
       "    </tr>\n",
       "    <tr>\n",
       "      <th>4</th>\n",
       "      <td>3</td>\n",
       "      <td>3646 3055 3055 2490 4659 6065 3370 5814 2465 5...</td>\n",
       "    </tr>\n",
       "  </tbody>\n",
       "</table>\n",
       "</div>"
      ],
      "text/plain": [
       "   label                                               text\n",
       "0      2  2967 6758 339 2021 1854 3731 4109 3792 4149 15...\n",
       "1     11  4464 486 6352 5619 2465 4802 1452 3137 5778 54...\n",
       "2      3  7346 4068 5074 3747 5681 6093 1777 2226 7354 6...\n",
       "3      2  7159 948 4866 2109 5520 2490 211 3956 5520 549...\n",
       "4      3  3646 3055 3055 2490 4659 6065 3370 5814 2465 5..."
      ]
     },
     "execution_count": 4,
     "metadata": {},
     "output_type": "execute_result"
    }
   ],
   "source": [
    "train_df.head()"
   ]
  },
  {
   "cell_type": "markdown",
   "metadata": {},
   "source": [
    "<!-- wp:paragraph -->\n",
    "<p>上图是读取好的数据，是表格的形式。第一列为新闻的类别，第二列为新闻的字符。</p>\n",
    "<!-- /wp:paragraph -->\n",
    "\n",
    "<!-- wp:heading {\"level\":3} -->\n",
    "<h3 id=\"%3Cstrong%3E%E6%95%B0%E6%8D%AE%E5%88%86%E6%9E%90%3C%2Fstrong%3E\"><strong>数据分析</strong></h3>\n",
    "<!-- /wp:heading -->\n",
    "\n",
    "<!-- wp:paragraph -->\n",
    "<p>在读取完成数据集后，我们还可以对数据集进行数据分析的操作。虽然对于非结构数据并不需要做很多的数据分析，但通过数据分析还是可以找出一些规律的。</p>\n",
    "<!-- /wp:paragraph -->\n",
    "\n",
    "<!-- wp:paragraph -->\n",
    "<p>此步骤我们读取了所有的训练集数据，在此我们通过数据分析希望得出以下结论：</p>\n",
    "<!-- /wp:paragraph -->\n",
    "\n",
    "<!-- wp:list -->\n",
    "<ul><li>赛题数据中，新闻文本的长度是多少？</li><li>赛题数据的类别分布是怎么样的，哪些类别比较多？</li><li>赛题数据中，字符分布是怎么样的？</li></ul>\n",
    "<!-- /wp:list -->\n",
    "\n",
    "<!-- wp:heading {\"level\":4} -->\n",
    "<h4 id=\"%3Cstrong%3E%E5%8F%A5%E5%AD%90%E9%95%BF%E5%BA%A6%E5%88%86%E6%9E%90%3C%2Fstrong%3E\"><strong>句子长度分析</strong></h4>\n",
    "<!-- /wp:heading -->\n",
    "\n",
    "<!-- wp:paragraph -->\n",
    "<p>在赛题数据中每行句子的字符使用空格进行隔开，所以可以直接统计单词的个数来得到每个句子的长度。统计并如下：</p>\n",
    "<!-- /wp:paragraph -->"
   ]
  },
  {
   "cell_type": "code",
   "execution_count": 5,
   "metadata": {},
   "outputs": [
    {
     "name": "stdout",
     "output_type": "stream",
     "text": [
      "Populating the interactive namespace from numpy and matplotlib\n",
      "count    200000.000000\n",
      "mean        907.207110\n",
      "std         996.029036\n",
      "min           2.000000\n",
      "25%         374.000000\n",
      "50%         676.000000\n",
      "75%        1131.000000\n",
      "max       57921.000000\n",
      "Name: text_len, dtype: float64\n"
     ]
    }
   ],
   "source": [
    "%pylab inline\n",
    "train_df['text_len'] = train_df['text'].apply(lambda x: len(x.split(' ')))\n",
    "print(train_df['text_len'].describe())\n"
   ]
  },
  {
   "cell_type": "markdown",
   "metadata": {},
   "source": [
    "<!-- wp:paragraph -->\n",
    "<p>对新闻句子的统计可以得出，本次赛题给定的文本比较长，每个句子平均由907个字符构成，最短的句子长度为2，最长的句子长度为57921。</p>\n",
    "<!-- /wp:paragraph -->\n",
    "\n",
    "<!-- wp:paragraph -->\n",
    "<p>下图将句子长度绘制了直方图，可见大部分句子的长度都几种在2000以内。</p>\n",
    "<!-- /wp:paragraph -->"
   ]
  },
  {
   "cell_type": "code",
   "execution_count": 6,
   "metadata": {},
   "outputs": [
    {
     "data": {
      "text/plain": [
       "Text(0.5, 1.0, 'Histogram of char count')"
      ]
     },
     "execution_count": 6,
     "metadata": {},
     "output_type": "execute_result"
    },
    {
     "data": {
      "image/png": "[encoded data removed]",
      "text/plain": [
       "<Figure size 432x288 with 1 Axes>"
      ]
     },
     "metadata": {
      "needs_background": "light"
     },
     "output_type": "display_data"
    }
   ],
   "source": [
    "_ = plt.hist(train_df['text_len'], bins=200)\n",
    "plt.xlabel(\"Text char count\")\n",
    "plt.title(\"Histogram of char count\")\n"
   ]
  },
  {
   "cell_type": "markdown",
   "metadata": {},
   "source": [
    "<!-- wp:heading {\"level\":4} -->\n",
    "<h4 id=\"%3Cstrong%3E%E6%96%B0%E9%97%BB%E7%B1%BB%E5%88%AB%E5%88%86%E5%B8%83%3C%2Fstrong%3E\"><strong>新闻类别分布</strong></h4>\n",
    "<!-- /wp:heading -->\n",
    "\n",
    "<!-- wp:paragraph -->\n",
    "<p>接下来可以对数据集的类别进行分布统计，具体统计每类新闻的样本个数。</p>\n",
    "<!-- /wp:paragraph -->"
   ]
  },
  {
   "cell_type": "code",
   "execution_count": 9,
   "metadata": {},
   "outputs": [
    {
     "data": {
      "text/plain": [
       "Text(0.5, 0, 'category')"
      ]
     },
     "execution_count": 9,
     "metadata": {},
     "output_type": "execute_result"
    },
    {
     "data": {
      "image/png": "[encoded data removed]",
      "text/plain": [
       "<Figure size 432x288 with 1 Axes>"
      ]
     },
     "metadata": {
      "needs_background": "light"
     },
     "output_type": "display_data"
    }
   ],
   "source": [
    "train_df['label'].value_counts().plot(kind='bar')\n",
    "plt.title(\"News class count\")\n",
    "plt.xlabel(\"category\")"
   ]
  },
  {
   "cell_type": "markdown",
   "metadata": {},
   "source": [
    "<!-- wp:paragraph -->\n",
    "<p>在数据集中标签的对应的关系如下：{'科技': 0, '股票': 1, '体育': 2, '娱乐': 3, '时政': 4, '社会': 5, '教育': 6, '财经': 7, '家居': 8, '游戏': 9, '房产': 10, '时尚': 11, '彩票': 12, '星座': 13}</p>\n",
    "<!-- /wp:paragraph -->\n",
    "\n",
    "<!-- wp:paragraph -->\n",
    "<p>从统计结果可以看出，赛题的数据集类别分布存在较为不均匀的情况。在训练集中科技类新闻最多，其次是股票类新闻，最少的新闻是星座新闻。</p>\n",
    "<!-- /wp:paragraph -->\n",
    "\n",
    "<!-- wp:heading {\"level\":4} -->\n",
    "<h4 id=\"%3Cstrong%3E%E5%AD%97%E7%AC%A6%E5%88%86%E5%B8%83%E7%BB%9F%E8%AE%A1%3C%2Fstrong%3E\"><strong>字符分布统计</strong></h4>\n",
    "<!-- /wp:heading -->\n",
    "\n",
    "<!-- wp:paragraph -->\n",
    "<p>接下来可以统计每个字符出现的次数，首先可以将训练集中所有的句子进行拼接进而划分为字符，并统计每个字符的个数。</p>\n",
    "<!-- /wp:paragraph -->"
   ]
  },
  {
   "cell_type": "code",
   "execution_count": 11,
   "metadata": {},
   "outputs": [
    {
     "name": "stdout",
     "output_type": "stream",
     "text": [
      "6869\n",
      "('3750', 7482224)\n",
      "('3133', 1)\n"
     ]
    }
   ],
   "source": [
    "from collections import Counter\n",
    "\n",
    "\n",
    "all_lines = ' '.join(list(train_df['text']))\n",
    "word_count = Counter(all_lines.split(' '))\n",
    "word_count = sorted(word_count.items(), key=lambda d:d[1], reverse = True)\n",
    "\n",
    "print(len(word_count))\n",
    "print(word_count[0])\n",
    "print(word_count[-1])"
   ]
  },
  {
   "cell_type": "markdown",
   "metadata": {},
   "source": [
    "<!-- wp:paragraph -->\n",
    "<p>从统计结果中可以看出，在训练集中总共包括6869个字，其中编号3750的字出现的次数最多，编号3133的字出现的次数最少。</p>\n",
    "<!-- /wp:paragraph -->"
   ]
  },
  {
   "cell_type": "markdown",
   "metadata": {},
   "source": [
    "<!-- wp:paragraph -->\n",
    "<p>这里还可以根据字在每个句子的出现情况，反推出标点符号。下面代码统计了不同字符在句子中出现的次数，其中字符3750，字符900和字符648在20w新闻的覆盖率接近99%，很有可能是标点符号。</p>\n",
    "<!-- /wp:paragraph -->"
   ]
  },
  {
   "cell_type": "code",
   "execution_count": 19,
   "metadata": {},
   "outputs": [
    {
     "name": "stdout",
     "output_type": "stream",
     "text": [
      "('3750', 197997)\n",
      "('900', 197653)\n",
      "('648', 191975)\n",
      "('2465', 177310)\n"
     ]
    }
   ],
   "source": [
    "from collections import Counter\n",
    "\n",
    "\n",
    "train_df['text_unique'] = train_df['text'].apply(lambda x: ' '.join(list(set(x.split(' ')))))\n",
    "all_lines = ' '.join(list(train_df['text_unique']))\n",
    "word_count = Counter(all_lines.split(\" \"))\n",
    "word_count = sorted(word_count.items(), key=lambda d:int(d[1]), reverse = True)\n",
    "\n",
    "print(word_count[0])\n",
    "print(word_count[1])\n",
    "print(word_count[2])\n",
    "print(word_count[3])"
   ]
  },
  {
   "cell_type": "markdown",
   "metadata": {},
   "source": [
    "<!-- wp:heading {\"level\":3} -->\n",
    "<h3 id=\"%3Cstrong%3E%E6%95%B0%E6%8D%AE%E5%88%86%E6%9E%90%E7%9A%84%E7%BB%93%E8%AE%BA%3C%2Fstrong%3E\"><strong>数据分析的结论</strong></h3>\n",
    "<!-- /wp:heading -->\n",
    "\n",
    "<!-- wp:paragraph -->\n",
    "<p>通过上述分析我们可以得出以下结论：</p>\n",
    "<!-- /wp:paragraph -->\n",
    "\n",
    "<!-- wp:list {\"ordered\":true} -->\n",
    "<ol><li>赛题中每个新闻包含的字符个数平均为1000个，还有一些新闻字符较长；</li><li>赛题中新闻类别分布不均匀，科技类新闻样本量接近4w，星座类新闻样本量不到1k；</li><li>赛题总共包括7000-8000个字符；</li></ol>\n",
    "<!-- /wp:list -->\n",
    "\n",
    "<!-- wp:paragraph -->\n",
    "<p>通过数据分析，我们还可以得出以下结论：</p>\n",
    "<!-- /wp:paragraph -->\n",
    "\n",
    "<!-- wp:list {\"ordered\":true} -->\n",
    "<ol><li>每个新闻平均字符个数较多，可能需要截断；</li><li>由于类别不均衡，会严重影响模型的精度；</li></ol>\n",
    "<!-- /wp:list -->\n",
    "\n",
    "<!-- wp:heading {\"level\":3} -->\n",
    "<h3 id=\"%3Cstrong%3E%E6%9C%AC%E7%AB%A0%E5%B0%8F%E7%BB%93%3C%2Fstrong%3E\"><strong>本章小结</strong></h3>\n",
    "<!-- /wp:heading -->\n",
    "\n",
    "<!-- wp:paragraph -->\n",
    "<p>本章对赛题数据进行读取，并新闻句子长度、类别和字符进行了可视化分析。</p>\n",
    "<!-- /wp:paragraph -->\n",
    "\n",
    "<!-- wp:heading {\"level\":3} -->\n",
    "<h3 id=\"%3Cstrong%3E%E6%9C%AC%E7%AB%A0%E4%BD%9C%E4%B8%9A%3C%2Fstrong%3E\"><strong>本章作业</strong></h3>\n",
    "<!-- /wp:heading -->\n",
    "\n",
    "<!-- wp:list {\"ordered\":true} -->\n",
    "<ol><li>假设字符3750，字符900和字符648是句子的标点符号，请分析赛题每篇新闻平均由多少个句子构成？</li><li>统计每类新闻中出现次数对多的字符</li></ol>\n",
    "<!-- /wp:list -->"
   ]
  },
  {
   "cell_type": "code",
   "execution_count": 24,
   "metadata": {},
   "outputs": [
    {
     "name": "stdout",
     "output_type": "stream",
     "text": [
      "24.62445\n"
     ]
    }
   ],
   "source": [
    "#作业1\n",
    "from collections import Counter\n",
    "\n",
    "\n",
    "all_lines = ' '.join(list(train_df['text']))\n",
    "word_count = Counter(all_lines.split(' '))\n",
    "\n",
    "#根据经验，逗号出现次数最多，其次是句号，所以视'648'为句号。\n",
    "#计数全部句号数求平均就是每篇新闻平均由多少个句子构成\n",
    "print(word_count['648'] / 200000)"
   ]
  },
  {
   "cell_type": "code",
   "execution_count": 29,
   "metadata": {},
   "outputs": [
    {
     "data": {
      "text/plain": [
       "        label\n",
       "count   0                                                    38918\n",
       "        1                                                    36945\n",
       "        2                                                    31425\n",
       "        3                                                    22133\n",
       "        4                                                    15016\n",
       "        5                                                    12232\n",
       "        6                                                     9985\n",
       "        7                                                     8841\n",
       "        8                                                     7847\n",
       "        9                                                     5878\n",
       "        10                                                    4920\n",
       "        11                                                    3131\n",
       "        12                                                    1821\n",
       "        13                                                     908\n",
       "unique  0                                                    38914\n",
       "        1                                                    36905\n",
       "        2                                                    31425\n",
       "        3                                                    22133\n",
       "        4                                                    15016\n",
       "        5                                                    12232\n",
       "        6                                                     9982\n",
       "        7                                                     8840\n",
       "        8                                                     7817\n",
       "        9                                                     5878\n",
       "        10                                                    4917\n",
       "        11                                                    3123\n",
       "        12                                                    1821\n",
       "        13                                                     908\n",
       "top     0        3659 5602 4089 4089 2456 7309 4351 5681 6908 4...\n",
       "        1        2538 2506 1363 5466 3772 340 922 433 2397 5778...\n",
       "        2        2970 3456 1699 2021 5603 4109 3512 1334 4402 6...\n",
       "        3        3646 7454 3344 4510 7212 4151 1519 7309 6596 5...\n",
       "        4        768 3605 1726 3743 3364 7373 1116 4969 3585 60...\n",
       "        5        2107 7226 7436 150 4510 7212 4063 6248 5176 62...\n",
       "        6        6111 6182 1715 543 4117 1315 2465 4630 2791 32...\n",
       "        7        3659 3370 3370 3700 1519 299 4981 1519 6835 52...\n",
       "        8        2673 5076 670 3961 4123 3706 6609 5510 1268 35...\n",
       "        9        7346 383 6980 2121 3859 6065 3747 4063 1099 37...\n",
       "        10       1779 3792 794 6968 2766 3523 531 6674 5718 331...\n",
       "        11       4151 5165 1460 5229 6272 5295 2465 5445 6785 3...\n",
       "        12       219 2603 4151 2255 2252 1116 7444 7539 5949 44...\n",
       "        13       1121 5436 3019 3607 7539 3019 3864 5393 3111 2...\n",
       "freq    0                                                        2\n",
       "        1                                                       11\n",
       "        2                                                        1\n",
       "        3                                                        1\n",
       "        4                                                        1\n",
       "        5                                                        1\n",
       "        6                                                        2\n",
       "        7                                                        2\n",
       "        8                                                        2\n",
       "        9                                                        1\n",
       "        10                                                       2\n",
       "        11                                                       2\n",
       "        12                                                       1\n",
       "        13                                                       1\n",
       "dtype: object"
      ]
     },
     "execution_count": 29,
     "metadata": {},
     "output_type": "execute_result"
    }
   ],
   "source": [
    "#作业2\n",
    "train_df.groupby('label')['text'].describe().unstack()"
   ]
  },
  {
   "cell_type": "code",
   "execution_count": null,
   "metadata": {},
   "outputs": [],
   "source": []
  }
 ],
 "metadata": {
  "kernelspec": {
   "display_name": "Python 3",
   "language": "python",
   "name": "python3"
  },
  "language_info": {
   "codemirror_mode": {
    "name": "ipython",
    "version": 3
   },
   "file_extension": ".py",
   "mimetype": "text/x-python",
   "name": "python",
   "nbconvert_exporter": "python",
   "pygments_lexer": "ipython3",
   "version": "3.8.3"
  }
 },
 "nbformat": 4,
 "nbformat_minor": 4
}
